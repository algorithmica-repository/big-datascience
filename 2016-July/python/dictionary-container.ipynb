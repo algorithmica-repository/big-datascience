{
 "cells": [
  {
   "cell_type": "code",
   "execution_count": 22,
   "metadata": {
    "collapsed": false
   },
   "outputs": [
    {
     "data": {
      "text/plain": [
       "'wet'"
      ]
     },
     "execution_count": 22,
     "metadata": {},
     "output_type": "execute_result"
    }
   ],
   "source": [
    "animals1 = {'cat': 'cute', 'dog': 'furry'} \n",
    "animals1\n",
    "#access the value associated with key\n",
    "animals1['cat']\n",
    "#overwrite the value for existing key\n",
    "animals1['cat'] = 'cute1'\n",
    "animals1['cat']\n",
    "#adding new key value pair\n",
    "animals1['fish'] ='wet'\n",
    "animals1\n",
    "#animals1['monkey']\n",
    "#access value using get method: It doesnot throw error if key not exists\n",
    "animals1.get('monkey')\n",
    "animals1.get('monkey','N/A')\n",
    "animals1.get('fish','N/A')\n"
   ]
  },
  {
   "cell_type": "code",
   "execution_count": 23,
   "metadata": {
    "collapsed": false
   },
   "outputs": [
    {
     "data": {
      "text/plain": [
       "{'cat': 'cute1', 'dog': 'furry'}"
      ]
     },
     "execution_count": 23,
     "metadata": {},
     "output_type": "execute_result"
    }
   ],
   "source": [
    "del animals1['fish']\n",
    "animals1"
   ]
  },
  {
   "cell_type": "code",
   "execution_count": 13,
   "metadata": {
    "collapsed": false
   },
   "outputs": [
    {
     "data": {
      "text/plain": [
       "{'cat': 3, 'dog': 10}"
      ]
     },
     "execution_count": 13,
     "metadata": {},
     "output_type": "execute_result"
    }
   ],
   "source": [
    "dict1 = {'cat': 1, 'dog': 2, 'cat':3, 'dog':10} \n",
    "dict1"
   ]
  },
  {
   "cell_type": "code",
   "execution_count": 11,
   "metadata": {
    "collapsed": false
   },
   "outputs": [
    {
     "data": {
      "text/plain": [
       "40"
      ]
     },
     "execution_count": 11,
     "metadata": {},
     "output_type": "execute_result"
    }
   ],
   "source": [
    "dict2 = {(1,1): 10, (1,3): 20} \n",
    "dict2[(1,1)]\n",
    "dict2[(1,1)] = 40\n",
    "dict2[(1,1)]"
   ]
  },
  {
   "cell_type": "code",
   "execution_count": 24,
   "metadata": {
    "collapsed": false
   },
   "outputs": [
    {
     "name": "stdout",
     "output_type": "stream",
     "text": [
      "('dog', 'furry')\n",
      "('cat', 'cute1')\n"
     ]
    }
   ],
   "source": [
    "for name in animals1:\n",
    "    behaviour = animals1[name]\n",
    "    print (name, behaviour)"
   ]
  },
  {
   "cell_type": "code",
   "execution_count": 29,
   "metadata": {
    "collapsed": false
   },
   "outputs": [
    {
     "name": "stdout",
     "output_type": "stream",
     "text": [
      "<type 'tuple'>\n",
      "('dog', 'furry')\n",
      "dog\n",
      "furry\n",
      "<type 'tuple'>\n",
      "('cat', 'cute1')\n",
      "cat\n",
      "cute1\n"
     ]
    }
   ],
   "source": [
    "for animal in animals1.iteritems():\n",
    "        print type(animal)\n",
    "        print animal\n",
    "        print animal[0]\n",
    "        print animal[1]\n",
    "        "
   ]
  },
  {
   "cell_type": "code",
   "execution_count": 31,
   "metadata": {
    "collapsed": false
   },
   "outputs": [
    {
     "data": {
      "text/plain": [
       "{'aa': 10, 'bb': 20}"
      ]
     },
     "execution_count": 31,
     "metadata": {},
     "output_type": "execute_result"
    }
   ],
   "source": [
    "dict3 = { 'aa':10, 'bb':20}\n",
    "dict3"
   ]
  },
  {
   "cell_type": "code",
   "execution_count": 36,
   "metadata": {
    "collapsed": false
   },
   "outputs": [
    {
     "data": {
      "text/plain": [
       "{'aa': [10, 20], 'bb': 20}"
      ]
     },
     "execution_count": 36,
     "metadata": {},
     "output_type": "execute_result"
    }
   ],
   "source": [
    "dict3['aa'] = [10,20]\n",
    "dict3"
   ]
  },
  {
   "cell_type": "code",
   "execution_count": 37,
   "metadata": {
    "collapsed": false
   },
   "outputs": [
    {
     "data": {
      "text/plain": [
       "{'aa': {'cat': 3, 'dog': 10}, 'bb': 20}"
      ]
     },
     "execution_count": 37,
     "metadata": {},
     "output_type": "execute_result"
    }
   ],
   "source": [
    "dict3['aa'] = dict1\n",
    "dict3"
   ]
  },
  {
   "cell_type": "code",
   "execution_count": null,
   "metadata": {
    "collapsed": true
   },
   "outputs": [],
   "source": []
  }
 ],
 "metadata": {
  "kernelspec": {
   "display_name": "Python [Root]",
   "language": "python",
   "name": "Python [Root]"
  },
  "language_info": {
   "codemirror_mode": {
    "name": "ipython",
    "version": 2
   },
   "file_extension": ".py",
   "mimetype": "text/x-python",
   "name": "python",
   "nbconvert_exporter": "python",
   "pygments_lexer": "ipython2",
   "version": "2.7.12"
  }
 },
 "nbformat": 4,
 "nbformat_minor": 0
}
